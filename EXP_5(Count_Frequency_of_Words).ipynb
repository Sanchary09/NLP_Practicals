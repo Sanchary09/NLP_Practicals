{
  "nbformat": 4,
  "nbformat_minor": 0,
  "metadata": {
    "colab": {
      "provenance": []
    },
    "kernelspec": {
      "name": "python3",
      "display_name": "Python 3"
    },
    "language_info": {
      "name": "python"
    }
  },
  "cells": [
    {
      "cell_type": "code",
      "execution_count": null,
      "metadata": {
        "id": "goO-8f000yzM"
      },
      "outputs": [],
      "source": [
        "import re\n",
        "from collections import Counter"
      ]
    },
    {
      "cell_type": "code",
      "source": [
        "def tokenize_text(text):\n",
        "    words = re.findall(r'\\b\\w+\\b', text.lower())\n",
        "    return words"
      ],
      "metadata": {
        "id": "2fWuBr1K07JL"
      },
      "execution_count": null,
      "outputs": []
    },
    {
      "cell_type": "code",
      "source": [
        "def count_words(words):\n",
        "    word_count = Counter(words)\n",
        "    return word_count"
      ],
      "metadata": {
        "id": "z1OPArVW1COU"
      },
      "execution_count": null,
      "outputs": []
    },
    {
      "cell_type": "code",
      "source": [
        "def main():\n",
        "    input_text = input(\"Please enter the text: \")\n",
        "\n",
        "    words = tokenize_text(input_text)\n",
        "\n",
        "    word_count = count_words(words)\n",
        "\n",
        "    for word, count in word_count.items():\n",
        "        print(f'{word}: {count}')"
      ],
      "metadata": {
        "id": "clGwVj771EBp"
      },
      "execution_count": null,
      "outputs": []
    },
    {
      "cell_type": "code",
      "source": [
        "if __name__ == \"__main__\":\n",
        "    main()"
      ],
      "metadata": {
        "colab": {
          "base_uri": "https://localhost:8080/"
        },
        "id": "WX7xS4jq1Gi3",
        "outputId": "bead8baa-a76d-4afc-8893-72fd55dd82eb"
      },
      "execution_count": null,
      "outputs": [
        {
          "output_type": "stream",
          "name": "stdout",
          "text": [
            "Please enter the text: Sanchary loves to read books, related to spiritual powers and much more, these books are an entrance to open up new ways and ideas\n",
            "sanchary: 1\n",
            "loves: 1\n",
            "to: 3\n",
            "read: 1\n",
            "books: 2\n",
            "related: 1\n",
            "spiritual: 1\n",
            "powers: 1\n",
            "and: 2\n",
            "much: 1\n",
            "more: 1\n",
            "these: 1\n",
            "are: 1\n",
            "an: 1\n",
            "entrance: 1\n",
            "open: 1\n",
            "up: 1\n",
            "new: 1\n",
            "ways: 1\n",
            "ideas: 1\n"
          ]
        }
      ]
    },
    {
      "cell_type": "code",
      "source": [],
      "metadata": {
        "id": "jWAt46Dn1IcX"
      },
      "execution_count": null,
      "outputs": []
    }
  ]
}