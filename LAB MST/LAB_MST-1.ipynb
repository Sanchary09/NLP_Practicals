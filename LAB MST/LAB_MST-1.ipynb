{
 "cells": [
  {
   "cell_type": "code",
   "execution_count": 1,
   "id": "ea97e713",
   "metadata": {},
   "outputs": [],
   "source": [
    "import nltk\n",
    "from nltk.tokenize import word_tokenize, sent_tokenize\n",
    "from nltk.corpus import stopwords\n",
    "from nltk.stem import PorterStemmer, WordNetLemmatizer\n",
    "from nltk.tag import pos_tag, pos_tag_sents\n",
    "from nltk.chunk import ne_chunk\n"
   ]
  },
  {
   "cell_type": "code",
   "execution_count": 2,
   "id": "11bb1c66",
   "metadata": {},
   "outputs": [],
   "source": [
    "#STORY\n",
    "story = \"\"\"\n",
    "In the darkness of the old, decrepit mansion, whispers danced along the corridors like phantoms. Sanchary, a curious soul with a penchant for the supernatural, dared to explore its depths. She brushed aside cobwebs, her footsteps echoing ominously.As she ventured deeper, a chill enveloped her, the air thick with foreboding. Shadows seemed to twist and contort, taking on sinister forms. Suddenly, a cold hand grazed her neck, and she whirled around, but there was nothing there.Heart pounding, Sanchary stumbled upon a hidden room. Inside, ancient artifacts adorned the walls, their eerie glow illuminating the space. Among them lay a dusty tome, its pages filled with arcane symbols \n",
    "and cryptic incantations.Unfazed by the warnings etched into the cover, Sanchary began to recite the incantation aloud.The air crackled with malevolent energy as the room trembled.A portal to the otherworld yawned open before her, its depths swirling with darkness.Frozen in terror, Sanchary watched as ghastly figures emerged from the abyss, their eyes gleaming with malice. They reached out with spectral hands, beckoning her into their realm.With a scream, Sanchary snapped the book shut, severing the connection. But the spirits lingered, their whispers haunting her every step as she fled the mansion, never to return.To this day, the old mansion stands as a testament to the darkness\n",
    "that lurks within, its secrets buried beneath layers of dust and decay. And Sanchary, forever scared by her encounter, knows that some doors are better left unopened.\n",
    "\"\"\""
   ]
  },
  {
   "cell_type": "code",
   "execution_count": 3,
   "id": "b011b2cf",
   "metadata": {},
   "outputs": [],
   "source": [
    "# Tokenization\n",
    "sentences = sent_tokenize(story)\n",
    "words = [word_tokenize(sentence) for sentence in sentences]\n",
    "\n",
    "# Stopwords removal\n",
    "stop_words = set(stopwords.words(\"english\"))\n",
    "filtered_words = [[word for word in sentence if word.lower() not in stop_words] for sentence in words]\n",
    "\n",
    "# Stemming\n",
    "porter = PorterStemmer()\n",
    "stemmed_words = [[porter.stem(word) for word in sentence] for sentence in filtered_words]\n",
    "\n",
    "# Lemmatization\n",
    "lemmatizer = WordNetLemmatizer()\n",
    "lemmatized_words = [[lemmatizer.lemmatize(word) for word in sentence] for sentence in filtered_words]\n",
    "\n",
    "# Part-of-speech tagging\n",
    "pos_tagged_words = [pos_tag(sentence) for sentence in words]\n"
   ]
  },
  {
   "cell_type": "code",
   "execution_count": 11,
   "id": "21e84ced",
   "metadata": {},
   "outputs": [
    {
     "name": "stdout",
     "output_type": "stream",
     "text": [
      "Entity: In the darkness of the old , decrepit mansion , whispers danced along the corridors like phantoms ., Label: S, Frequency: 1\n",
      "Entity: GPE , a curious soul with a penchant for the supernatural , dared to explore its depths ., Label: S, Frequency: 1\n",
      "Entity: Sanchary, Label: GPE, Frequency: 2\n",
      "Entity: She brushed aside cobwebs , her footsteps echoing ominously.As she ventured deeper , a chill enveloped her , the air thick with foreboding ., Label: S, Frequency: 1\n",
      "Entity: PERSON seemed to twist and contort , taking on sinister forms ., Label: S, Frequency: 1\n",
      "Entity: Shadows, Label: PERSON, Frequency: 1\n",
      "Entity: Suddenly , a cold hand grazed her neck , and she whirled around , but there was nothing there.Heart pounding , PERSON stumbled upon a hidden room ., Label: S, Frequency: 1\n",
      "Entity: Sanchary, Label: PERSON, Frequency: 4\n",
      "Entity: GPE , ancient artifacts adorned the walls , their eerie glow illuminating the space ., Label: S, Frequency: 1\n",
      "Entity: Inside, Label: GPE, Frequency: 1\n",
      "Entity: Among them lay a dusty tome , its pages filled with arcane symbols and cryptic incantations.Unfazed by the warnings etched into the cover , PERSON began to recite the incantation aloud.The air crackled with malevolent energy as the room trembled.A portal to the otherworld yawned open before her , its depths swirling with darkness.Frozen in terror , PERSON watched as ghastly figures emerged from the abyss , their eyes gleaming with malice ., Label: S, Frequency: 1\n",
      "Entity: They reached out with spectral hands , beckoning her into their realm.With a scream , PERSON snapped the book shut , severing the connection ., Label: S, Frequency: 1\n",
      "Entity: But the spirits lingered , their whispers haunting her every step as she fled the mansion , never to return.To this day , the old mansion stands as a testament to the darkness that lurks within , its secrets buried beneath layers of dust and decay ., Label: S, Frequency: 1\n",
      "Entity: And GPE , forever scared by her encounter , knows that some doors are better left unopened ., Label: S, Frequency: 1\n"
     ]
    }
   ],
   "source": [
    "#Named entity recognition\n",
    "from collections import Counter\n",
    "\n",
    "# Flatten the list of named entities\n",
    "flattened_entities = [entity for sublist in named_entities_with_labels for entity in sublist]\n",
    "\n",
    "# Count the occurrences of each named entity\n",
    "entity_counter = Counter(flattened_entities)\n",
    "\n",
    "# Print the specific named entities and their frequencies\n",
    "for entity, frequency in entity_counter.items():\n",
    "    print(f\"Entity: {entity[1]}, Label: {entity[0]}, Frequency: {frequency}\")\n"
   ]
  },
  {
   "cell_type": "code",
   "execution_count": 12,
   "id": "b4230704",
   "metadata": {},
   "outputs": [
    {
     "name": "stdout",
     "output_type": "stream",
     "text": [
      "Person: Shadows, Frequency: 1\n",
      "Person: Sanchary, Frequency: 4\n"
     ]
    }
   ],
   "source": [
    "from collections import Counter\n",
    "\n",
    "# Filter named entities of type \"PERSON\"\n",
    "person_entities = [entity for entity in flattened_entities if entity[0] == 'PERSON']\n",
    "\n",
    "# Count the occurrences of each person entity\n",
    "person_entity_counter = Counter(person_entities)\n",
    "\n",
    "# Print the specific person entities and their frequencies\n",
    "for entity, frequency in person_entity_counter.items():\n",
    "    print(f\"Person: {entity[1]}, Frequency: {frequency}\")\n"
   ]
  },
  {
   "cell_type": "code",
   "execution_count": 10,
   "id": "07ddbd8e",
   "metadata": {},
   "outputs": [
    {
     "name": "stdout",
     "output_type": "stream",
     "text": [
      "Tokenization:\n",
      "[['In', 'the', 'darkness', 'of', 'the', 'old', ',', 'decrepit', 'mansion', ',', 'whispers', 'danced', 'along', 'the', 'corridors', 'like', 'phantoms', '.'], ['Sanchary', ',', 'a', 'curious', 'soul', 'with', 'a', 'penchant', 'for', 'the', 'supernatural', ',', 'dared', 'to', 'explore', 'its', 'depths', '.'], ['She', 'brushed', 'aside', 'cobwebs', ',', 'her', 'footsteps', 'echoing', 'ominously.As', 'she', 'ventured', 'deeper', ',', 'a', 'chill', 'enveloped', 'her', ',', 'the', 'air', 'thick', 'with', 'foreboding', '.'], ['Shadows', 'seemed', 'to', 'twist', 'and', 'contort', ',', 'taking', 'on', 'sinister', 'forms', '.'], ['Suddenly', ',', 'a', 'cold', 'hand', 'grazed', 'her', 'neck', ',', 'and', 'she', 'whirled', 'around', ',', 'but', 'there', 'was', 'nothing', 'there.Heart', 'pounding', ',', 'Sanchary', 'stumbled', 'upon', 'a', 'hidden', 'room', '.'], ['Inside', ',', 'ancient', 'artifacts', 'adorned', 'the', 'walls', ',', 'their', 'eerie', 'glow', 'illuminating', 'the', 'space', '.'], ['Among', 'them', 'lay', 'a', 'dusty', 'tome', ',', 'its', 'pages', 'filled', 'with', 'arcane', 'symbols', 'and', 'cryptic', 'incantations.Unfazed', 'by', 'the', 'warnings', 'etched', 'into', 'the', 'cover', ',', 'Sanchary', 'began', 'to', 'recite', 'the', 'incantation', 'aloud.The', 'air', 'crackled', 'with', 'malevolent', 'energy', 'as', 'the', 'room', 'trembled.A', 'portal', 'to', 'the', 'otherworld', 'yawned', 'open', 'before', 'her', ',', 'its', 'depths', 'swirling', 'with', 'darkness.Frozen', 'in', 'terror', ',', 'Sanchary', 'watched', 'as', 'ghastly', 'figures', 'emerged', 'from', 'the', 'abyss', ',', 'their', 'eyes', 'gleaming', 'with', 'malice', '.'], ['They', 'reached', 'out', 'with', 'spectral', 'hands', ',', 'beckoning', 'her', 'into', 'their', 'realm.With', 'a', 'scream', ',', 'Sanchary', 'snapped', 'the', 'book', 'shut', ',', 'severing', 'the', 'connection', '.'], ['But', 'the', 'spirits', 'lingered', ',', 'their', 'whispers', 'haunting', 'her', 'every', 'step', 'as', 'she', 'fled', 'the', 'mansion', ',', 'never', 'to', 'return.To', 'this', 'day', ',', 'the', 'old', 'mansion', 'stands', 'as', 'a', 'testament', 'to', 'the', 'darkness', 'that', 'lurks', 'within', ',', 'its', 'secrets', 'buried', 'beneath', 'layers', 'of', 'dust', 'and', 'decay', '.'], ['And', 'Sanchary', ',', 'forever', 'scared', 'by', 'her', 'encounter', ',', 'knows', 'that', 'some', 'doors', 'are', 'better', 'left', 'unopened', '.']]\n",
      "\n",
      "Stopwords Removal:\n",
      "[['darkness', 'old', ',', 'decrepit', 'mansion', ',', 'whispers', 'danced', 'along', 'corridors', 'like', 'phantoms', '.'], ['Sanchary', ',', 'curious', 'soul', 'penchant', 'supernatural', ',', 'dared', 'explore', 'depths', '.'], ['brushed', 'aside', 'cobwebs', ',', 'footsteps', 'echoing', 'ominously.As', 'ventured', 'deeper', ',', 'chill', 'enveloped', ',', 'air', 'thick', 'foreboding', '.'], ['Shadows', 'seemed', 'twist', 'contort', ',', 'taking', 'sinister', 'forms', '.'], ['Suddenly', ',', 'cold', 'hand', 'grazed', 'neck', ',', 'whirled', 'around', ',', 'nothing', 'there.Heart', 'pounding', ',', 'Sanchary', 'stumbled', 'upon', 'hidden', 'room', '.'], ['Inside', ',', 'ancient', 'artifacts', 'adorned', 'walls', ',', 'eerie', 'glow', 'illuminating', 'space', '.'], ['Among', 'lay', 'dusty', 'tome', ',', 'pages', 'filled', 'arcane', 'symbols', 'cryptic', 'incantations.Unfazed', 'warnings', 'etched', 'cover', ',', 'Sanchary', 'began', 'recite', 'incantation', 'aloud.The', 'air', 'crackled', 'malevolent', 'energy', 'room', 'trembled.A', 'portal', 'otherworld', 'yawned', 'open', ',', 'depths', 'swirling', 'darkness.Frozen', 'terror', ',', 'Sanchary', 'watched', 'ghastly', 'figures', 'emerged', 'abyss', ',', 'eyes', 'gleaming', 'malice', '.'], ['reached', 'spectral', 'hands', ',', 'beckoning', 'realm.With', 'scream', ',', 'Sanchary', 'snapped', 'book', 'shut', ',', 'severing', 'connection', '.'], ['spirits', 'lingered', ',', 'whispers', 'haunting', 'every', 'step', 'fled', 'mansion', ',', 'never', 'return.To', 'day', ',', 'old', 'mansion', 'stands', 'testament', 'darkness', 'lurks', 'within', ',', 'secrets', 'buried', 'beneath', 'layers', 'dust', 'decay', '.'], ['Sanchary', ',', 'forever', 'scared', 'encounter', ',', 'knows', 'doors', 'better', 'left', 'unopened', '.']]\n",
      "\n",
      "Stemming:\n",
      "[['dark', 'old', ',', 'decrepit', 'mansion', ',', 'whisper', 'danc', 'along', 'corridor', 'like', 'phantom', '.'], ['sanchari', ',', 'curiou', 'soul', 'penchant', 'supernatur', ',', 'dare', 'explor', 'depth', '.'], ['brush', 'asid', 'cobweb', ',', 'footstep', 'echo', 'ominously.a', 'ventur', 'deeper', ',', 'chill', 'envelop', ',', 'air', 'thick', 'forebod', '.'], ['shadow', 'seem', 'twist', 'contort', ',', 'take', 'sinist', 'form', '.'], ['suddenli', ',', 'cold', 'hand', 'graze', 'neck', ',', 'whirl', 'around', ',', 'noth', 'there.heart', 'pound', ',', 'sanchari', 'stumbl', 'upon', 'hidden', 'room', '.'], ['insid', ',', 'ancient', 'artifact', 'adorn', 'wall', ',', 'eeri', 'glow', 'illumin', 'space', '.'], ['among', 'lay', 'dusti', 'tome', ',', 'page', 'fill', 'arcan', 'symbol', 'cryptic', 'incantations.unfaz', 'warn', 'etch', 'cover', ',', 'sanchari', 'began', 'recit', 'incant', 'aloud.th', 'air', 'crackl', 'malevol', 'energi', 'room', 'trembled.a', 'portal', 'otherworld', 'yawn', 'open', ',', 'depth', 'swirl', 'darkness.frozen', 'terror', ',', 'sanchari', 'watch', 'ghastli', 'figur', 'emerg', 'abyss', ',', 'eye', 'gleam', 'malic', '.'], ['reach', 'spectral', 'hand', ',', 'beckon', 'realm.with', 'scream', ',', 'sanchari', 'snap', 'book', 'shut', ',', 'sever', 'connect', '.'], ['spirit', 'linger', ',', 'whisper', 'haunt', 'everi', 'step', 'fled', 'mansion', ',', 'never', 'return.to', 'day', ',', 'old', 'mansion', 'stand', 'testament', 'dark', 'lurk', 'within', ',', 'secret', 'buri', 'beneath', 'layer', 'dust', 'decay', '.'], ['sanchari', ',', 'forev', 'scare', 'encount', ',', 'know', 'door', 'better', 'left', 'unopen', '.']]\n",
      "\n",
      "Lemmatization:\n",
      "[['darkness', 'old', ',', 'decrepit', 'mansion', ',', 'whisper', 'danced', 'along', 'corridor', 'like', 'phantom', '.'], ['Sanchary', ',', 'curious', 'soul', 'penchant', 'supernatural', ',', 'dared', 'explore', 'depth', '.'], ['brushed', 'aside', 'cobweb', ',', 'footstep', 'echoing', 'ominously.As', 'ventured', 'deeper', ',', 'chill', 'enveloped', ',', 'air', 'thick', 'foreboding', '.'], ['Shadows', 'seemed', 'twist', 'contort', ',', 'taking', 'sinister', 'form', '.'], ['Suddenly', ',', 'cold', 'hand', 'grazed', 'neck', ',', 'whirled', 'around', ',', 'nothing', 'there.Heart', 'pounding', ',', 'Sanchary', 'stumbled', 'upon', 'hidden', 'room', '.'], ['Inside', ',', 'ancient', 'artifact', 'adorned', 'wall', ',', 'eerie', 'glow', 'illuminating', 'space', '.'], ['Among', 'lay', 'dusty', 'tome', ',', 'page', 'filled', 'arcane', 'symbol', 'cryptic', 'incantations.Unfazed', 'warning', 'etched', 'cover', ',', 'Sanchary', 'began', 'recite', 'incantation', 'aloud.The', 'air', 'crackled', 'malevolent', 'energy', 'room', 'trembled.A', 'portal', 'otherworld', 'yawned', 'open', ',', 'depth', 'swirling', 'darkness.Frozen', 'terror', ',', 'Sanchary', 'watched', 'ghastly', 'figure', 'emerged', 'abyss', ',', 'eye', 'gleaming', 'malice', '.'], ['reached', 'spectral', 'hand', ',', 'beckoning', 'realm.With', 'scream', ',', 'Sanchary', 'snapped', 'book', 'shut', ',', 'severing', 'connection', '.'], ['spirit', 'lingered', ',', 'whisper', 'haunting', 'every', 'step', 'fled', 'mansion', ',', 'never', 'return.To', 'day', ',', 'old', 'mansion', 'stand', 'testament', 'darkness', 'lurks', 'within', ',', 'secret', 'buried', 'beneath', 'layer', 'dust', 'decay', '.'], ['Sanchary', ',', 'forever', 'scared', 'encounter', ',', 'know', 'door', 'better', 'left', 'unopened', '.']]\n",
      "\n",
      "Part-of-Speech Tagging:\n",
      "[[('In', 'IN'), ('the', 'DT'), ('darkness', 'NN'), ('of', 'IN'), ('the', 'DT'), ('old', 'JJ'), (',', ','), ('decrepit', 'JJ'), ('mansion', 'NN'), (',', ','), ('whispers', 'NNS'), ('danced', 'VBD'), ('along', 'IN'), ('the', 'DT'), ('corridors', 'NNS'), ('like', 'IN'), ('phantoms', 'NNS'), ('.', '.')], [('Sanchary', 'NNP'), (',', ','), ('a', 'DT'), ('curious', 'JJ'), ('soul', 'NN'), ('with', 'IN'), ('a', 'DT'), ('penchant', 'NN'), ('for', 'IN'), ('the', 'DT'), ('supernatural', 'JJ'), (',', ','), ('dared', 'VBD'), ('to', 'TO'), ('explore', 'VB'), ('its', 'PRP$'), ('depths', 'NNS'), ('.', '.')], [('She', 'PRP'), ('brushed', 'VBD'), ('aside', 'RB'), ('cobwebs', 'NN'), (',', ','), ('her', 'PRP$'), ('footsteps', 'NNS'), ('echoing', 'VBG'), ('ominously.As', 'IN'), ('she', 'PRP'), ('ventured', 'VBD'), ('deeper', 'NN'), (',', ','), ('a', 'DT'), ('chill', 'NN'), ('enveloped', 'VBD'), ('her', 'PRP'), (',', ','), ('the', 'DT'), ('air', 'NN'), ('thick', 'NN'), ('with', 'IN'), ('foreboding', 'NN'), ('.', '.')], [('Shadows', 'NNS'), ('seemed', 'VBD'), ('to', 'TO'), ('twist', 'VB'), ('and', 'CC'), ('contort', 'VB'), (',', ','), ('taking', 'VBG'), ('on', 'IN'), ('sinister', 'NN'), ('forms', 'NNS'), ('.', '.')], [('Suddenly', 'RB'), (',', ','), ('a', 'DT'), ('cold', 'JJ'), ('hand', 'NN'), ('grazed', 'VBD'), ('her', 'PRP$'), ('neck', 'NN'), (',', ','), ('and', 'CC'), ('she', 'PRP'), ('whirled', 'VBD'), ('around', 'RB'), (',', ','), ('but', 'CC'), ('there', 'EX'), ('was', 'VBD'), ('nothing', 'NN'), ('there.Heart', 'NN'), ('pounding', 'NN'), (',', ','), ('Sanchary', 'NNP'), ('stumbled', 'VBD'), ('upon', 'IN'), ('a', 'DT'), ('hidden', 'JJ'), ('room', 'NN'), ('.', '.')], [('Inside', 'NNP'), (',', ','), ('ancient', 'JJ'), ('artifacts', 'NNS'), ('adorned', 'VBD'), ('the', 'DT'), ('walls', 'NNS'), (',', ','), ('their', 'PRP$'), ('eerie', 'JJ'), ('glow', 'NN'), ('illuminating', 'VBG'), ('the', 'DT'), ('space', 'NN'), ('.', '.')], [('Among', 'IN'), ('them', 'PRP'), ('lay', 'VBD'), ('a', 'DT'), ('dusty', 'JJ'), ('tome', 'NN'), (',', ','), ('its', 'PRP$'), ('pages', 'NNS'), ('filled', 'VBN'), ('with', 'IN'), ('arcane', 'NN'), ('symbols', 'NNS'), ('and', 'CC'), ('cryptic', 'JJ'), ('incantations.Unfazed', 'VBN'), ('by', 'IN'), ('the', 'DT'), ('warnings', 'NNS'), ('etched', 'VBD'), ('into', 'IN'), ('the', 'DT'), ('cover', 'NN'), (',', ','), ('Sanchary', 'NNP'), ('began', 'VBD'), ('to', 'TO'), ('recite', 'VB'), ('the', 'DT'), ('incantation', 'NN'), ('aloud.The', 'IN'), ('air', 'NN'), ('crackled', 'VBN'), ('with', 'IN'), ('malevolent', 'JJ'), ('energy', 'NN'), ('as', 'IN'), ('the', 'DT'), ('room', 'NN'), ('trembled.A', 'NN'), ('portal', 'NN'), ('to', 'TO'), ('the', 'DT'), ('otherworld', 'NN'), ('yawned', 'VBD'), ('open', 'JJ'), ('before', 'IN'), ('her', 'PRP$'), (',', ','), ('its', 'PRP$'), ('depths', 'NNS'), ('swirling', 'VBG'), ('with', 'IN'), ('darkness.Frozen', 'NN'), ('in', 'IN'), ('terror', 'NN'), (',', ','), ('Sanchary', 'NNP'), ('watched', 'VBD'), ('as', 'IN'), ('ghastly', 'RB'), ('figures', 'NNS'), ('emerged', 'VBD'), ('from', 'IN'), ('the', 'DT'), ('abyss', 'NN'), (',', ','), ('their', 'PRP$'), ('eyes', 'NNS'), ('gleaming', 'VBG'), ('with', 'IN'), ('malice', 'NN'), ('.', '.')], [('They', 'PRP'), ('reached', 'VBD'), ('out', 'RP'), ('with', 'IN'), ('spectral', 'JJ'), ('hands', 'NNS'), (',', ','), ('beckoning', 'VBG'), ('her', 'PRP$'), ('into', 'IN'), ('their', 'PRP$'), ('realm.With', 'NN'), ('a', 'DT'), ('scream', 'NN'), (',', ','), ('Sanchary', 'NNP'), ('snapped', 'VBD'), ('the', 'DT'), ('book', 'NN'), ('shut', 'NN'), (',', ','), ('severing', 'VBG'), ('the', 'DT'), ('connection', 'NN'), ('.', '.')], [('But', 'CC'), ('the', 'DT'), ('spirits', 'NNS'), ('lingered', 'VBN'), (',', ','), ('their', 'PRP$'), ('whispers', 'NNS'), ('haunting', 'VBG'), ('her', 'PRP$'), ('every', 'DT'), ('step', 'NN'), ('as', 'IN'), ('she', 'PRP'), ('fled', 'VBD'), ('the', 'DT'), ('mansion', 'NN'), (',', ','), ('never', 'RB'), ('to', 'TO'), ('return.To', 'VB'), ('this', 'DT'), ('day', 'NN'), (',', ','), ('the', 'DT'), ('old', 'JJ'), ('mansion', 'NN'), ('stands', 'VBZ'), ('as', 'IN'), ('a', 'DT'), ('testament', 'NN'), ('to', 'TO'), ('the', 'DT'), ('darkness', 'NN'), ('that', 'WDT'), ('lurks', 'VBZ'), ('within', 'IN'), (',', ','), ('its', 'PRP$'), ('secrets', 'NNS'), ('buried', 'VBN'), ('beneath', 'IN'), ('layers', 'NNS'), ('of', 'IN'), ('dust', 'NN'), ('and', 'CC'), ('decay', 'NN'), ('.', '.')], [('And', 'CC'), ('Sanchary', 'NNP'), (',', ','), ('forever', 'RB'), ('scared', 'VBN'), ('by', 'IN'), ('her', 'PRP$'), ('encounter', 'NN'), (',', ','), ('knows', 'VBZ'), ('that', 'IN'), ('some', 'DT'), ('doors', 'NNS'), ('are', 'VBP'), ('better', 'RB'), ('left', 'VBN'), ('unopened', 'JJ'), ('.', '.')]]\n"
     ]
    }
   ],
   "source": [
    "# Print results\n",
    "print(\"Tokenization:\")\n",
    "print(words)\n",
    "print(\"\\nStopwords Removal:\")\n",
    "print(filtered_words)\n",
    "print(\"\\nStemming:\")\n",
    "print(stemmed_words)\n",
    "print(\"\\nLemmatization:\")\n",
    "print(lemmatized_words)\n",
    "print(\"\\nPart-of-Speech Tagging:\")\n",
    "print(pos_tagged_words)\n",
    "\n"
   ]
  },
  {
   "cell_type": "code",
   "execution_count": null,
   "id": "9a10542b",
   "metadata": {},
   "outputs": [],
   "source": []
  },
  {
   "cell_type": "code",
   "execution_count": null,
   "id": "d8eb7829",
   "metadata": {},
   "outputs": [],
   "source": []
  }
 ],
 "metadata": {
  "kernelspec": {
   "display_name": "Python 3 (ipykernel)",
   "language": "python",
   "name": "python3"
  },
  "language_info": {
   "codemirror_mode": {
    "name": "ipython",
    "version": 3
   },
   "file_extension": ".py",
   "mimetype": "text/x-python",
   "name": "python",
   "nbconvert_exporter": "python",
   "pygments_lexer": "ipython3",
   "version": "3.10.9"
  }
 },
 "nbformat": 4,
 "nbformat_minor": 5
}
